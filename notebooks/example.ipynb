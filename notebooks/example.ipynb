{
 "cells": [
  {
   "cell_type": "code",
   "execution_count": 3,
   "metadata": {},
   "outputs": [
    {
     "ename": "TypeError",
     "evalue": "create_and_submit_job_array() missing 3 required positional arguments: 'savepath', 'pyfile', and 'params_dict'",
     "output_type": "error",
     "traceback": [
      "\u001b[1;31m---------------------------------------------------------------------------\u001b[0m",
      "\u001b[1;31mTypeError\u001b[0m                                 Traceback (most recent call last)",
      "\u001b[1;32mc:\\Data\\churchland\\pybatch\\notebooks\\example.ipynb Cell 1\u001b[0m line \u001b[0;36m5\n\u001b[0;32m      <a href='vscode-notebook-cell:/c%3A/Data/churchland/pybatch/notebooks/example.ipynb#W0sZmlsZQ%3D%3D?line=1'>2</a>\u001b[0m \u001b[39mfrom\u001b[39;00m \u001b[39mpathlib\u001b[39;00m \u001b[39mimport\u001b[39;00m Path\n\u001b[0;32m      <a href='vscode-notebook-cell:/c%3A/Data/churchland/pybatch/notebooks/example.ipynb#W0sZmlsZQ%3D%3D?line=3'>4</a>\u001b[0m pyfilepath \u001b[39m=\u001b[39m Path(\u001b[39mr\u001b[39m\u001b[39m'\u001b[39m\u001b[39mC:\u001b[39m\u001b[39m\\\u001b[39m\u001b[39mData\u001b[39m\u001b[39m\\\u001b[39m\u001b[39mchurchland\u001b[39m\u001b[39m\\\u001b[39m\u001b[39mpybatch\u001b[39m\u001b[39m\\\u001b[39m\u001b[39mscripts\u001b[39m\u001b[39m\\\u001b[39m\u001b[39m_array_job_template.py\u001b[39m\u001b[39m'\u001b[39m)\n\u001b[1;32m----> <a href='vscode-notebook-cell:/c%3A/Data/churchland/pybatch/notebooks/example.ipynb#W0sZmlsZQ%3D%3D?line=4'>5</a>\u001b[0m create_and_submit_job_array()\n",
      "\u001b[1;31mTypeError\u001b[0m: create_and_submit_job_array() missing 3 required positional arguments: 'savepath', 'pyfile', and 'params_dict'"
     ]
    }
   ],
   "source": [
    "from pybatch import create_and_submit_job_array\n",
    "from pathlib import Path\n",
    "\n",
    "pyfilepath = Path(r'C:\\Data\\churchland\\pybatch\\scripts\\_array_job_template.py')\n",
    "\n",
    "create_and_submit_job_array(pyfilepath,)\n"
   ]
  }
 ],
 "metadata": {
  "kernelspec": {
   "display_name": "iblenv",
   "language": "python",
   "name": "python3"
  },
  "language_info": {
   "codemirror_mode": {
    "name": "ipython",
    "version": 3
   },
   "file_extension": ".py",
   "mimetype": "text/x-python",
   "name": "python",
   "nbconvert_exporter": "python",
   "pygments_lexer": "ipython3",
   "version": "3.12.2"
  }
 },
 "nbformat": 4,
 "nbformat_minor": 2
}
