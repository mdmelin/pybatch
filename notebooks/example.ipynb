{
 "cells": [
  {
   "cell_type": "code",
   "execution_count": null,
   "metadata": {},
   "outputs": [],
   "source": [
    "# 1. The easiest way\n",
    "%load_ext autoreload \n",
    "%autoreload 2\n",
    "from pybatch import create_and_submit_parameter_grid_array, assemble_outputs, load_params\n",
    "from pathlib import Path\n",
    "\n",
    "# The python file to be run in parallel\n",
    "pyfilepath = Path(r'/u/home/m/mmelin/lib/pybatch/scripts/_array_job_template.py')\n",
    "SAVEPATH = Path().home() / 'pybatch' / 'jobs' / 'test'\n",
    "# The parameters to be passed to the above python file\n",
    "# These will be made into a grid of all possible combinations\n",
    "paramsdict = dict(alpha=[1, 2, 3, 10],\n",
    "                  solver='cholesky',\n",
    "                  tol=[1e-3, 1e-6])\n",
    "                  \n",
    "params, jobpath = create_and_submit_parameter_grid_array(pyfilepath, paramsdict, savepath=SAVEPATH)"
   ]
  },
  {
   "cell_type": "code",
   "execution_count": null,
   "metadata": {},
   "outputs": [],
   "source": [
    "import numpy as np\n",
    "import matplotlib.pyplot as plt\n",
    "\n",
    "params = load_params(SAVEPATH)\n",
    "scores = assemble_outputs(SAVEPATH)\n",
    "scores = np.stack(scores)\n",
    "scores.shape\n",
    "\n",
    "plt.scatter(np.arange(scores.shape[0]), np.mean(scores, axis=1))\n",
    "plt.xlabel('Param index')\n",
    "plt.ylabel('Cross-validated score')\n",
    "\n",
    "best_ind = np.argmax(np.mean(scores, axis=1))\n",
    "params\n",
    "best_params = {k:val[best_ind] for k,val in params.items()}\n",
    "print(f'Best params are {best_params}')"
   ]
  }
 ],
 "metadata": {
  "kernelspec": {
   "display_name": "iblenv",
   "language": "python",
   "name": "python3"
  },
  "language_info": {
   "codemirror_mode": {
    "name": "ipython",
    "version": 3
   },
   "file_extension": ".py",
   "mimetype": "text/x-python",
   "name": "python",
   "nbconvert_exporter": "python",
   "pygments_lexer": "ipython3",
   "version": "3.10.14"
  }
 },
 "nbformat": 4,
 "nbformat_minor": 2
}
