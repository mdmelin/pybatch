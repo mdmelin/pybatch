{
 "cells": [
  {
   "cell_type": "code",
   "execution_count": null,
   "metadata": {},
   "outputs": [],
   "source": [
    "# 1. The easiest way\n",
    "from pybatch import create_and_submit_parameter_grid_array\n",
    "from pathlib import Path\n",
    "\n",
    "# The python file to be run in parallel\n",
    "pyfilepath = Path(r'C:\\Data\\churchland\\pybatch\\scripts\\_array_job_template.py')\n",
    "\n",
    "# The parameters to be passed to the above python file\n",
    "# These will be made into a grid of all possible combinations\n",
    "paramsdict = dict(alpha=[1, 2, 3, 10],\n",
    "                  solver='cholesky',\n",
    "                  tol=[1e-3, 1e-6])\n",
    "                  \n",
    "create_and_submit_parameter_grid_array(pyfilepath, paramsdict)"
   ]
  },
  {
   "cell_type": "code",
   "execution_count": null,
   "metadata": {},
   "outputs": [],
   "source": [
    "# 2. The more flexible way"
   ]
  }
 ],
 "metadata": {
  "kernelspec": {
   "display_name": "iblenv",
   "language": "python",
   "name": "python3"
  },
  "language_info": {
   "codemirror_mode": {
    "name": "ipython",
    "version": 3
   },
   "file_extension": ".py",
   "mimetype": "text/x-python",
   "name": "python",
   "nbconvert_exporter": "python",
   "pygments_lexer": "ipython3",
   "version": "3.12.2"
  }
 },
 "nbformat": 4,
 "nbformat_minor": 2
}
